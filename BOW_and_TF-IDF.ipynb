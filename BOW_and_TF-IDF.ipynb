# To implement Bag Of Words

import pandas as pd
from sklearn.feature_extraction.text import *
sentence1="The movie is very scary and long"
sentence2="The movie is not scary and is long"
sentence3="The movie is spooky and good"
CountVec=CountVectorizer(ngram_range=(1,1),stop_words='english')
Count_data=CountVec.fit_transform([sentence1,sentence2,sentence3])
cv_dataframe=pd.DataFrame(Count_data.toarray(),columns=CountVec.get_feature_names())
print(cv_dataframe)

# To implement TF-IDF

from sklearn.feature_extraction.text import TfidfVectorizer 
sentence1="The movie is very scary and long"
sentence2="The movie is not scary and is long"
sentence3="The movie is spooky and good"
Doc = [sentence1 , sentence2 , sentence3]
vectorizer = TfidfVectorizer()
X = vectorizer.fit_transform(Doc)
analyze = vectorizer.build_analyzer() 
print('Review 1',analyze(sentence1)) 
print('Review 2',analyze(sentence2)) 
print('Review 3',analyze(sentence3)) 
print('The words are:',vectorizer.get_feature_names())
print('tfid of words:',X.toarray())
